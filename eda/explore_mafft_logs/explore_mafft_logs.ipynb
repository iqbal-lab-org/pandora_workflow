{
 "cells": [
  {
   "cell_type": "code",
   "execution_count": 17,
   "metadata": {},
   "outputs": [],
   "source": [
    "nb_of_total_msas = 0\n",
    "genes_where_we_started_updating_MSA = set()\n",
    "genes_where_we_finished_updating_MSA = set()\n",
    "runtimes = []\n",
    "with open(\"update_msas.log\") as fin:\n",
    "    for line in fin:\n",
    "        line_split = line.strip().split()\n",
    "        if line_split[3]==\"Updating\" and line_split[5]==\"MSAs...\":\n",
    "            nb_of_total_msas = int(line_split[4])\n",
    "        elif \"Updating MSA for\" in line:\n",
    "            genes_where_we_started_updating_MSA.add(line_split[-1][:-3])\n",
    "        elif \"Finished updating MSA for\" in line:\n",
    "            genes_where_we_finished_updating_MSA.add(line_split[-1])\n",
    "        elif \"MAFFT update runtime for\" in line:\n",
    "            runtimes.append(float(line_split[-1]))\n"
   ]
  },
  {
   "cell_type": "code",
   "execution_count": 18,
   "metadata": {},
   "outputs": [
    {
     "name": "stdout",
     "output_type": "stream",
     "text": [
      "Total number of locus to update: 8912\n",
      "Number of loci where we started the update: 8813\n",
      "Number of loci where we finished the update: 8802\n"
     ]
    }
   ],
   "source": [
    "print(f\"Total number of locus to update: {nb_of_total_msas}\")\n",
    "print(f\"Number of loci where we started the update: {len(genes_where_we_started_updating_MSA)}\")\n",
    "print(f\"Number of loci where we finished the update: {len(genes_where_we_finished_updating_MSA)}\")"
   ]
  },
  {
   "cell_type": "code",
   "execution_count": 19,
   "metadata": {},
   "outputs": [
    {
     "name": "stdout",
     "output_type": "stream",
     "text": [
      "Loci that we started the update but did not finish: {'GC00000015_10', 'GC00000721_6', 'GC00000230_9', 'GC00000145_9', 'GC00000739', 'GC00000205_8', 'GC00000258_r1_1', 'GC00000089_14', 'GC00001169_2', 'GC00000201_5', 'GC00000012_97'}\n"
     ]
    }
   ],
   "source": [
    "print(f\"Loci that we started the update but did not finish: {genes_where_we_started_updating_MSA - genes_where_we_finished_updating_MSA}\")"
   ]
  },
  {
   "cell_type": "code",
   "execution_count": 27,
   "metadata": {},
   "outputs": [
    {
     "data": {
      "text/plain": [
       "<seaborn.axisgrid.FacetGrid at 0x7f71a4d14278>"
      ]
     },
     "execution_count": 27,
     "metadata": {},
     "output_type": "execute_result"
    },
    {
     "data": {
      "image/png": "[encoded data removed]",
      "text/plain": [
       "<Figure size 360x360 with 1 Axes>"
      ]
     },
     "metadata": {
      "needs_background": "light"
     },
     "output_type": "display_data"
    }
   ],
   "source": [
    "import seaborn as sns\n",
    "ax = sns.displot(runtimes, log_scale=(False, True))\n",
    "ax.set(xlabel='time in seconds', ylabel='count')\n",
    "ax"
   ]
  }
 ],
 "metadata": {
  "kernelspec": {
   "display_name": "Python 3",
   "language": "python",
   "name": "python3"
  },
  "language_info": {
   "codemirror_mode": {
    "name": "ipython",
    "version": 3
   },
   "file_extension": ".py",
   "mimetype": "text/x-python",
   "name": "python",
   "nbconvert_exporter": "python",
   "pygments_lexer": "ipython3",
   "version": "3.7.3"
  }
 },
 "nbformat": 4,
 "nbformat_minor": 4
}
